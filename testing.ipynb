{
 "cells": [
  {
   "cell_type": "code",
   "execution_count": 1,
   "metadata": {},
   "outputs": [],
   "source": [
    "import processing as pr"
   ]
  },
  {
   "cell_type": "code",
   "execution_count": 2,
   "metadata": {},
   "outputs": [],
   "source": [
    "proposal = 2530\n",
    "run = 50\n",
    "module_number = 0\n",
    "pattern = ['image', 'dark'] * 99 + ['end_image']\n",
    "\n",
    "module = pr.Module(proposal=proposal, run=run, module=module_number, pattern=pattern)"
   ]
  },
  {
   "cell_type": "code",
   "execution_count": null,
   "metadata": {},
   "outputs": [],
   "source": [
    "module.process_frames(frame_type='darks', train_indices=range(199), dirname='processed_runs_xgm')"
   ]
  },
  {
   "cell_type": "code",
   "execution_count": null,
   "metadata": {},
   "outputs": [],
   "source": [
    "module.process_frames(frame_type='images', train_indices=range(10), dirname='processed_runs_xgm')"
   ]
  },
  {
   "cell_type": "code",
   "execution_count": null,
   "metadata": {},
   "outputs": [],
   "source": [
    "module.process_std(train_indices=range(10), dirname='processed_runs_xgm')"
   ]
  },
  {
   "cell_type": "code",
   "execution_count": 3,
   "metadata": {},
   "outputs": [
    {
     "name": "stdout",
     "output_type": "stream",
     "text": [
      "[range(0, 12), range(12, 24), range(24, 36), range(36, 48), range(48, 60), range(60, 72), range(72, 84), range(84, 96), range(96, 108), range(108, 111)]\n",
      "10989\n"
     ]
    },
    {
     "data": {
      "text/plain": [
       "array([[[ 1.00310704e+01,  1.53579235e+01,  1.82482186e+01, ...,\n",
       "         -5.56690235e-02,  1.28237021e-01, -1.90392341e-02],\n",
       "        [ 1.63751163e+01,  1.67302315e+01,  1.65919512e+01, ...,\n",
       "         -2.40049142e-02,  1.09603582e-02,  1.08855229e-01],\n",
       "        [ 1.34414532e+01,  1.78363997e+01,  1.72259824e+01, ...,\n",
       "          6.60095596e-02,  8.55724593e-02,  4.91789921e-02],\n",
       "        ...,\n",
       "        [ 5.79704679e-03,  7.13896960e-02, -4.96871798e-02, ...,\n",
       "          5.46674154e-02,  6.85968495e-02,  4.29817681e-02],\n",
       "        [-1.13176106e-01, -3.53169502e-02,  1.10900888e-01, ...,\n",
       "          1.01728645e-01,  1.04476449e-02,  7.15570037e-02],\n",
       "        [ 1.01258326e-01, -1.15532995e-01,  3.38123289e-02, ...,\n",
       "          2.05153778e-01,  1.40049262e-01,  1.12204283e-01]]])"
      ]
     },
     "execution_count": 3,
     "metadata": {},
     "output_type": "execute_result"
    }
   ],
   "source": [
    "module.process_normalised(dark_run=49, train_indices=range(111))#, dirname='processed_runs_xgm')"
   ]
  },
  {
   "cell_type": "code",
   "execution_count": 4,
   "metadata": {},
   "outputs": [
    {
     "data": {
      "text/plain": [
       "10989"
      ]
     },
     "execution_count": 4,
     "metadata": {},
     "output_type": "execute_result"
    }
   ],
   "source": [
    "111*99"
   ]
  },
  {
   "cell_type": "code",
   "execution_count": null,
   "metadata": {},
   "outputs": [],
   "source": [
    "filename = f'processed_runs_xgm/run_{run_number}/module_{module_number}_diff.h5'\n",
    "with h5py.File(filename, 'r') as f:\n",
    "    data = f['data'][:] \n",
    "data"
   ]
  },
  {
   "cell_type": "code",
   "execution_count": null,
   "metadata": {},
   "outputs": [],
   "source": [
    "data.max()"
   ]
  },
  {
   "cell_type": "code",
   "execution_count": null,
   "metadata": {},
   "outputs": [],
   "source": [
    "import matplotlib.pyplot as plt\n",
    "\n",
    "plt.imshow(data.squeeze())"
   ]
  },
  {
   "cell_type": "code",
   "execution_count": null,
   "metadata": {},
   "outputs": [],
   "source": []
  }
 ],
 "metadata": {
  "kernelspec": {
   "display_name": "xfel",
   "language": "python",
   "name": "xfel"
  },
  "language_info": {
   "codemirror_mode": {
    "name": "ipython",
    "version": 3
   },
   "file_extension": ".py",
   "mimetype": "text/x-python",
   "name": "python",
   "nbconvert_exporter": "python",
   "pygments_lexer": "ipython3",
   "version": "3.7.3"
  }
 },
 "nbformat": 4,
 "nbformat_minor": 2
}
