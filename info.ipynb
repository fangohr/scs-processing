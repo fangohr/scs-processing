{
 "cells": [
  {
   "cell_type": "markdown",
   "metadata": {},
   "source": [
    "# Info\n",
    "\n",
    "- To process dark run:\n",
    "  `$ ./process_run.sh 49 0`  (49 is the run to be processed zero means it is the dark run)\n",
    "  \n",
    "- To process normal run:\n",
    "  `$ ./process_run.sh 50 49`  (50 run to be processed, 49 dark run)\n",
    "  \n",
    "  \n",
    "Message from Marijan:\n",
    "\n",
    "- I think I managed to add all functionality we need for static runs.\n",
    "\n",
    "- The code is parallelised.\n",
    "\n",
    "- One job is submitted per module\n",
    "\n",
    "- I spent some time reducing the code and making it as simple as my brain allowed at this time so that it is hopefully understandable and easy to change if necessary.\n",
    "\n",
    "- Style-wise, repetition-wise, namings etc. are far from perfect, but I considered that to be low-priority.\n",
    "  \n",
    "Suggestions to do:\n",
    "\n",
    "1. Make a convenience function for loading all the data from the processed run, so that the loaded data can be analysed in already existing notebooks. (how to read an h5 file can be found in testing.ipynb)\n",
    "\n",
    "2. Make bash scripts and process_module.py more user friendly\n",
    "\n",
    "3. Write a tutorial\n",
    "\n",
    "4. VERY IMPORTANT: Before explaining people how to run the scripts, review the code critically"
   ]
  },
  {
   "cell_type": "code",
   "execution_count": null,
   "metadata": {},
   "outputs": [],
   "source": []
  }
 ],
 "metadata": {
  "kernelspec": {
   "display_name": "xfel",
   "language": "python",
   "name": "xfel"
  },
  "language_info": {
   "codemirror_mode": {
    "name": "ipython",
    "version": 3
   },
   "file_extension": ".py",
   "mimetype": "text/x-python",
   "name": "python",
   "nbconvert_exporter": "python",
   "pygments_lexer": "ipython3",
   "version": "3.7.3"
  }
 },
 "nbformat": 4,
 "nbformat_minor": 2
}
